{
 "cells": [
  {
   "cell_type": "code",
   "execution_count": 1,
   "id": "eec4e9d3",
   "metadata": {},
   "outputs": [],
   "source": [
    "import glob\n",
    "import pandas as pd\n",
    "from sklearn.utils import shuffle"
   ]
  },
  {
   "cell_type": "code",
   "execution_count": 2,
   "id": "a50858de",
   "metadata": {},
   "outputs": [],
   "source": [
    "csv_files = glob.glob(\"/home/sidathmunasinghe/Music/tweet_extractor_2021_05_22/tweet_extractor/labelled/confirmed/*.csv\")"
   ]
  },
  {
   "cell_type": "code",
   "execution_count": 3,
   "id": "6e172014",
   "metadata": {},
   "outputs": [
    {
     "data": {
      "text/plain": [
       "['place',\n",
       " 'in_reply_to_screen_name',\n",
       " 'id',\n",
       " 'retweeted',\n",
       " 'supplemental_language',\n",
       " 'entities',\n",
       " 'source',\n",
       " 'coordinates',\n",
       " 'is_quote_status',\n",
       " 'quoted_status_id',\n",
       " 'reply_count',\n",
       " 'possibly_sensitive_editable',\n",
       " 'display_text_range',\n",
       " 'in_reply_to_user_id',\n",
       " 'conversation_id',\n",
       " 'id_str',\n",
       " 'user_id_str',\n",
       " 'quoted_status_permalink',\n",
       " 'quoted_status_id_str',\n",
       " 'contributors',\n",
       " 'conversation_id_str',\n",
       " 'possibly_sensitive',\n",
       " 'self_thread',\n",
       " 'retweet_count',\n",
       " 'full_text',\n",
       " 'created_at',\n",
       " 'in_reply_to_status_id',\n",
       " 'label',\n",
       " 'lang',\n",
       " 'truncated',\n",
       " 'in_reply_to_user_id_str',\n",
       " 'user_id',\n",
       " 'favorited',\n",
       " 'favorite_count',\n",
       " 'geo',\n",
       " 'extended_entities',\n",
       " 'quote_count',\n",
       " 'in_reply_to_status_id_str']"
      ]
     },
     "execution_count": 3,
     "metadata": {},
     "output_type": "execute_result"
    }
   ],
   "source": [
    "columns = []\n",
    "frames = []\n",
    "for file in csv_files:\n",
    "    df = pd.read_csv(file)\n",
    "    frames.append(df)\n",
    "    columns.append(set(df.columns))\n",
    "common_columns = list(set.intersection(*columns))\n",
    "common_columns.remove(\"Unnamed: 0.1\")\n",
    "common_columns.remove(\"Unnamed: 0\")\n",
    "common_columns"
   ]
  },
  {
   "cell_type": "code",
   "execution_count": 4,
   "id": "300b71a3",
   "metadata": {},
   "outputs": [
    {
     "data": {
      "text/plain": [
       "Index(['place', 'in_reply_to_screen_name', 'id', 'retweeted',\n",
       "       'supplemental_language', 'entities', 'source', 'coordinates',\n",
       "       'is_quote_status', 'quoted_status_id', 'reply_count',\n",
       "       'possibly_sensitive_editable', 'display_text_range',\n",
       "       'in_reply_to_user_id', 'conversation_id', 'id_str', 'user_id_str',\n",
       "       'quoted_status_permalink', 'quoted_status_id_str', 'contributors',\n",
       "       'conversation_id_str', 'possibly_sensitive', 'self_thread',\n",
       "       'retweet_count', 'full_text', 'created_at', 'in_reply_to_status_id',\n",
       "       'label', 'lang', 'truncated', 'in_reply_to_user_id_str', 'user_id',\n",
       "       'favorited', 'favorite_count', 'geo', 'extended_entities',\n",
       "       'quote_count', 'in_reply_to_status_id_str'],\n",
       "      dtype='object')"
      ]
     },
     "execution_count": 4,
     "metadata": {},
     "output_type": "execute_result"
    }
   ],
   "source": [
    "data = pd.concat(frames)\n",
    "data = data[common_columns]\n",
    "data.columns"
   ]
  },
  {
   "cell_type": "code",
   "execution_count": 7,
   "id": "fb81d915",
   "metadata": {},
   "outputs": [
    {
     "data": {
      "text/plain": [
       "(4508, 38)"
      ]
     },
     "execution_count": 7,
     "metadata": {},
     "output_type": "execute_result"
    }
   ],
   "source": [
    "data = shuffle(data)\n",
    "data.shape"
   ]
  },
  {
   "cell_type": "code",
   "execution_count": 6,
   "id": "c77c47f0",
   "metadata": {},
   "outputs": [],
   "source": [
    "data.to_csv(\"merged/full_dataset.csv\")"
   ]
  },
  {
   "cell_type": "code",
   "execution_count": null,
   "id": "e88b307c",
   "metadata": {},
   "outputs": [],
   "source": []
  }
 ],
 "metadata": {
  "kernelspec": {
   "display_name": "Python 3",
   "language": "python",
   "name": "python3"
  },
  "language_info": {
   "codemirror_mode": {
    "name": "ipython",
    "version": 3
   },
   "file_extension": ".py",
   "mimetype": "text/x-python",
   "name": "python",
   "nbconvert_exporter": "python",
   "pygments_lexer": "ipython3",
   "version": "3.6.9"
  }
 },
 "nbformat": 4,
 "nbformat_minor": 5
}
