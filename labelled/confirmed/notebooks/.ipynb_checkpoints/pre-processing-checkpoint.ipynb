{
 "cells": [
  {
   "cell_type": "code",
   "execution_count": 1,
   "id": "48324927",
   "metadata": {},
   "outputs": [],
   "source": [
    "import pandas as pd\n",
    "import seaborn as sns\n",
    "from matplotlib import pyplot as plt\n",
    "import numpy as np\n",
    "import string\n",
    "import emoji\n",
    "import demoji\n",
    "import re"
   ]
  },
  {
   "cell_type": "code",
   "execution_count": 2,
   "id": "7db54ecf",
   "metadata": {},
   "outputs": [],
   "source": [
    "data = pd.read_csv(\"../merged_dataset/full_dataset.csv\")"
   ]
  },
  {
   "cell_type": "code",
   "execution_count": 3,
   "id": "26445b8c",
   "metadata": {},
   "outputs": [
    {
     "data": {
      "text/html": [
       "<div>\n",
       "<style scoped>\n",
       "    .dataframe tbody tr th:only-of-type {\n",
       "        vertical-align: middle;\n",
       "    }\n",
       "\n",
       "    .dataframe tbody tr th {\n",
       "        vertical-align: top;\n",
       "    }\n",
       "\n",
       "    .dataframe thead th {\n",
       "        text-align: right;\n",
       "    }\n",
       "</style>\n",
       "<table border=\"1\" class=\"dataframe\">\n",
       "  <thead>\n",
       "    <tr style=\"text-align: right;\">\n",
       "      <th></th>\n",
       "      <th>Unnamed: 0</th>\n",
       "      <th>place</th>\n",
       "      <th>in_reply_to_screen_name</th>\n",
       "      <th>id</th>\n",
       "      <th>retweeted</th>\n",
       "      <th>supplemental_language</th>\n",
       "      <th>entities</th>\n",
       "      <th>source</th>\n",
       "      <th>coordinates</th>\n",
       "      <th>is_quote_status</th>\n",
       "      <th>...</th>\n",
       "      <th>lang</th>\n",
       "      <th>truncated</th>\n",
       "      <th>in_reply_to_user_id_str</th>\n",
       "      <th>user_id</th>\n",
       "      <th>favorited</th>\n",
       "      <th>favorite_count</th>\n",
       "      <th>geo</th>\n",
       "      <th>extended_entities</th>\n",
       "      <th>quote_count</th>\n",
       "      <th>in_reply_to_status_id_str</th>\n",
       "    </tr>\n",
       "  </thead>\n",
       "  <tbody>\n",
       "    <tr>\n",
       "      <th>0</th>\n",
       "      <td>144</td>\n",
       "      <td>NaN</td>\n",
       "      <td>NaN</td>\n",
       "      <td>1.175814e+18</td>\n",
       "      <td>False</td>\n",
       "      <td>NaN</td>\n",
       "      <td>{'hashtags': [], 'symbols': [], 'user_mentions...</td>\n",
       "      <td>&lt;a href=\"http://twitter.com/download/iphone\" r...</td>\n",
       "      <td>NaN</td>\n",
       "      <td>True</td>\n",
       "      <td>...</td>\n",
       "      <td>si</td>\n",
       "      <td>False</td>\n",
       "      <td>NaN</td>\n",
       "      <td>2503150696.0</td>\n",
       "      <td>False</td>\n",
       "      <td>11</td>\n",
       "      <td>NaN</td>\n",
       "      <td>NaN</td>\n",
       "      <td>0</td>\n",
       "      <td>NaN</td>\n",
       "    </tr>\n",
       "    <tr>\n",
       "      <th>1</th>\n",
       "      <td>30</td>\n",
       "      <td>NaN</td>\n",
       "      <td>_NayanatharaJ</td>\n",
       "      <td>9.545702e+17</td>\n",
       "      <td>False</td>\n",
       "      <td>NaN</td>\n",
       "      <td>{'hashtags': [{'text': 'හෙළුවෙන්මවනමු', 'indic...</td>\n",
       "      <td>&lt;a href=\"http://twitter.com/download/android\" ...</td>\n",
       "      <td>NaN</td>\n",
       "      <td>False</td>\n",
       "      <td>...</td>\n",
       "      <td>si</td>\n",
       "      <td>False</td>\n",
       "      <td>8.983568e+17</td>\n",
       "      <td>150624162.0</td>\n",
       "      <td>False</td>\n",
       "      <td>2</td>\n",
       "      <td>NaN</td>\n",
       "      <td>NaN</td>\n",
       "      <td>1</td>\n",
       "      <td>9.545627e+17</td>\n",
       "    </tr>\n",
       "    <tr>\n",
       "      <th>2</th>\n",
       "      <td>200</td>\n",
       "      <td>NaN</td>\n",
       "      <td>NaN</td>\n",
       "      <td>1.353329e+18</td>\n",
       "      <td>False</td>\n",
       "      <td>NaN</td>\n",
       "      <td>{'hashtags': [], 'symbols': [], 'user_mentions...</td>\n",
       "      <td>&lt;a href=\"https://mobile.twitter.com\" rel=\"nofo...</td>\n",
       "      <td>NaN</td>\n",
       "      <td>False</td>\n",
       "      <td>...</td>\n",
       "      <td>si</td>\n",
       "      <td>False</td>\n",
       "      <td>NaN</td>\n",
       "      <td>23873458.0</td>\n",
       "      <td>False</td>\n",
       "      <td>23</td>\n",
       "      <td>NaN</td>\n",
       "      <td>{'media': [{'id': 1353328788826951682, 'id_str...</td>\n",
       "      <td>0</td>\n",
       "      <td>NaN</td>\n",
       "    </tr>\n",
       "    <tr>\n",
       "      <th>3</th>\n",
       "      <td>8</td>\n",
       "      <td>NaN</td>\n",
       "      <td>NaN</td>\n",
       "      <td>8.343548e+17</td>\n",
       "      <td>False</td>\n",
       "      <td>NaN</td>\n",
       "      <td>{'hashtags': [], 'symbols': [], 'user_mentions...</td>\n",
       "      <td>&lt;a href=\"http://twitter.com/download/android\" ...</td>\n",
       "      <td>NaN</td>\n",
       "      <td>False</td>\n",
       "      <td>...</td>\n",
       "      <td>et</td>\n",
       "      <td>False</td>\n",
       "      <td>NaN</td>\n",
       "      <td>7.27767441892315e+17</td>\n",
       "      <td>False</td>\n",
       "      <td>1</td>\n",
       "      <td>NaN</td>\n",
       "      <td>NaN</td>\n",
       "      <td>0</td>\n",
       "      <td>NaN</td>\n",
       "    </tr>\n",
       "    <tr>\n",
       "      <th>4</th>\n",
       "      <td>150</td>\n",
       "      <td>NaN</td>\n",
       "      <td>IsuriUdeshika</td>\n",
       "      <td>1.332201e+18</td>\n",
       "      <td>False</td>\n",
       "      <td>NaN</td>\n",
       "      <td>{'hashtags': [], 'symbols': [], 'user_mentions...</td>\n",
       "      <td>&lt;a href=\"http://twitter.com/download/android\" ...</td>\n",
       "      <td>NaN</td>\n",
       "      <td>False</td>\n",
       "      <td>...</td>\n",
       "      <td>si</td>\n",
       "      <td>False</td>\n",
       "      <td>1.082529e+18</td>\n",
       "      <td>1.31388435850831e+18</td>\n",
       "      <td>False</td>\n",
       "      <td>0</td>\n",
       "      <td>NaN</td>\n",
       "      <td>NaN</td>\n",
       "      <td>0</td>\n",
       "      <td>1.332010e+18</td>\n",
       "    </tr>\n",
       "  </tbody>\n",
       "</table>\n",
       "<p>5 rows × 39 columns</p>\n",
       "</div>"
      ],
      "text/plain": [
       "   Unnamed: 0 place in_reply_to_screen_name            id  retweeted  \\\n",
       "0         144   NaN                     NaN  1.175814e+18      False   \n",
       "1          30   NaN           _NayanatharaJ  9.545702e+17      False   \n",
       "2         200   NaN                     NaN  1.353329e+18      False   \n",
       "3           8   NaN                     NaN  8.343548e+17      False   \n",
       "4         150   NaN           IsuriUdeshika  1.332201e+18      False   \n",
       "\n",
       "  supplemental_language                                           entities  \\\n",
       "0                   NaN  {'hashtags': [], 'symbols': [], 'user_mentions...   \n",
       "1                   NaN  {'hashtags': [{'text': 'හෙළුවෙන්මවනමු', 'indic...   \n",
       "2                   NaN  {'hashtags': [], 'symbols': [], 'user_mentions...   \n",
       "3                   NaN  {'hashtags': [], 'symbols': [], 'user_mentions...   \n",
       "4                   NaN  {'hashtags': [], 'symbols': [], 'user_mentions...   \n",
       "\n",
       "                                              source coordinates  \\\n",
       "0  <a href=\"http://twitter.com/download/iphone\" r...         NaN   \n",
       "1  <a href=\"http://twitter.com/download/android\" ...         NaN   \n",
       "2  <a href=\"https://mobile.twitter.com\" rel=\"nofo...         NaN   \n",
       "3  <a href=\"http://twitter.com/download/android\" ...         NaN   \n",
       "4  <a href=\"http://twitter.com/download/android\" ...         NaN   \n",
       "\n",
       "  is_quote_status  ... lang  truncated in_reply_to_user_id_str  \\\n",
       "0            True  ...   si      False                     NaN   \n",
       "1           False  ...   si      False            8.983568e+17   \n",
       "2           False  ...   si      False                     NaN   \n",
       "3           False  ...   et      False                     NaN   \n",
       "4           False  ...   si      False            1.082529e+18   \n",
       "\n",
       "                user_id  favorited  favorite_count  geo  \\\n",
       "0          2503150696.0      False              11  NaN   \n",
       "1           150624162.0      False               2  NaN   \n",
       "2            23873458.0      False              23  NaN   \n",
       "3  7.27767441892315e+17      False               1  NaN   \n",
       "4  1.31388435850831e+18      False               0  NaN   \n",
       "\n",
       "                                   extended_entities quote_count  \\\n",
       "0                                                NaN           0   \n",
       "1                                                NaN           1   \n",
       "2  {'media': [{'id': 1353328788826951682, 'id_str...           0   \n",
       "3                                                NaN           0   \n",
       "4                                                NaN           0   \n",
       "\n",
       "   in_reply_to_status_id_str  \n",
       "0                        NaN  \n",
       "1               9.545627e+17  \n",
       "2                        NaN  \n",
       "3                        NaN  \n",
       "4               1.332010e+18  \n",
       "\n",
       "[5 rows x 39 columns]"
      ]
     },
     "execution_count": 3,
     "metadata": {},
     "output_type": "execute_result"
    }
   ],
   "source": [
    "data.head()"
   ]
  },
  {
   "cell_type": "code",
   "execution_count": 4,
   "id": "2d8560ab",
   "metadata": {},
   "outputs": [
    {
     "data": {
      "text/plain": [
       "Text(0.5, 1.0, 'Count of classes')"
      ]
     },
     "execution_count": 4,
     "metadata": {},
     "output_type": "execute_result"
    },
    {
     "data": {
      "image/png": "[encoded data removed]",
      "text/plain": [
       "<Figure size 432x288 with 1 Axes>"
      ]
     },
     "metadata": {
      "needs_background": "light"
     },
     "output_type": "display_data"
    }
   ],
   "source": [
    "ax = sns.countplot(x=\"label\", data=data)\n",
    "ax.set_title(\"Count of classes\")"
   ]
  },
  {
   "cell_type": "code",
   "execution_count": 5,
   "id": "a5fec436",
   "metadata": {},
   "outputs": [
    {
     "data": {
      "image/png": "[encoded data removed]",
      "text/plain": [
       "<Figure size 1080x360 with 1 Axes>"
      ]
     },
     "metadata": {
      "needs_background": "light"
     },
     "output_type": "display_data"
    }
   ],
   "source": [
    "df = pd.crosstab(data['reply_count'], data['label'])\n",
    "df.div(df.sum(1).astype(float), axis=0).plot(kind='bar', stacked=False, figsize=(15,5), color=['orange', 'crimson'])\n",
    "plt.title('Reply Count VS Label', fontsize=30)\n",
    "plt.show()"
   ]
  },
  {
   "cell_type": "code",
   "execution_count": 6,
   "id": "92882fdd",
   "metadata": {},
   "outputs": [
    {
     "data": {
      "image/png": "[encoded data removed]",
      "text/plain": [
       "<Figure size 1080x360 with 1 Axes>"
      ]
     },
     "metadata": {
      "needs_background": "light"
     },
     "output_type": "display_data"
    }
   ],
   "source": [
    "df = pd.crosstab(data['retweet_count'], data['label'])\n",
    "df.div(df.sum(1).astype(float), axis=0).plot(kind='bar', stacked=False, figsize=(15,5), color=['orange', 'crimson'])\n",
    "plt.title('Retweet Count VS Label', fontsize=30)\n",
    "plt.show()"
   ]
  },
  {
   "cell_type": "code",
   "execution_count": 7,
   "id": "0d19b504",
   "metadata": {},
   "outputs": [
    {
     "data": {
      "text/plain": [
       "<matplotlib.collections.PathCollection at 0x7f91221f3eb8>"
      ]
     },
     "execution_count": 7,
     "metadata": {},
     "output_type": "execute_result"
    },
    {
     "data": {
      "image/png": "[encoded data removed]",
      "text/plain": [
       "<Figure size 432x288 with 1 Axes>"
      ]
     },
     "metadata": {
      "needs_background": "light"
     },
     "output_type": "display_data"
    }
   ],
   "source": [
    "plt.scatter(data[\"label\"], data[\"retweeted\"])"
   ]
  },
  {
   "cell_type": "code",
   "execution_count": 8,
   "id": "f5c73dea",
   "metadata": {},
   "outputs": [
    {
     "data": {
      "text/plain": [
       "array(['0', '1', '10', '102', '11', '115', '12', '128', '13', '135', '14',\n",
       "       '15', '16', '17', '18', '19', '2', '20', '21', '22', '23', '24',\n",
       "       '25', '26', '27', '29', '3', '30', '32', '33', '34', '35', '37',\n",
       "       '4', '40', '41', '44', '45', '46', '47', '48', '5', '54', '58',\n",
       "       '6', '61', '64', '7', '76', '8', '87', '88', '9', '90', 'False'],\n",
       "      dtype=object)"
      ]
     },
     "execution_count": 8,
     "metadata": {},
     "output_type": "execute_result"
    }
   ],
   "source": [
    "np.unique(data[\"retweet_count\"])"
   ]
  },
  {
   "cell_type": "markdown",
   "id": "9ec93eb8",
   "metadata": {},
   "source": [
    "# Preprocessing Functions"
   ]
  },
  {
   "cell_type": "code",
   "execution_count": 9,
   "id": "a7d8bcff",
   "metadata": {},
   "outputs": [],
   "source": [
    "def remove_punctuations(text):\n",
    "    formattedText = text\n",
    "    for char in string.punctuation:\n",
    "        formattedText = formattedText.replace(char, '')\n",
    "    return formattedText"
   ]
  },
  {
   "cell_type": "code",
   "execution_count": 10,
   "id": "1d1c3019",
   "metadata": {},
   "outputs": [],
   "source": [
    "def extract_emojis(s):\n",
    "  return ''.join(c for c in s if c in emoji.UNICODE_EMOJI['en'])"
   ]
  },
  {
   "cell_type": "code",
   "execution_count": 11,
   "id": "62947e52",
   "metadata": {},
   "outputs": [],
   "source": [
    "def get_emoji_meanings(text):\n",
    "    return demoji.findall(text)"
   ]
  },
  {
   "cell_type": "code",
   "execution_count": 12,
   "id": "210d9200",
   "metadata": {},
   "outputs": [],
   "source": [
    "def remove_emojis(text):\n",
    "    return demoji.replace(text, \"\")"
   ]
  },
  {
   "cell_type": "code",
   "execution_count": 13,
   "id": "9fee7ec7",
   "metadata": {},
   "outputs": [],
   "source": [
    "def remove_english_chars(text):\n",
    "    return re.sub(\"[a-z]*[A-Z]*\", \"\", text)"
   ]
  },
  {
   "cell_type": "code",
   "execution_count": 14,
   "id": "aaa5b6be",
   "metadata": {},
   "outputs": [],
   "source": [
    "def remove_new_lines(text):\n",
    "    return text.replace('\\n', \" \")"
   ]
  },
  {
   "cell_type": "code",
   "execution_count": 15,
   "id": "a68fef48",
   "metadata": {},
   "outputs": [],
   "source": [
    "def remove_numbers(text):\n",
    "    return re.sub(\"[0-9]*\", \"\", text)"
   ]
  },
  {
   "cell_type": "code",
   "execution_count": 16,
   "id": "642bc3c0",
   "metadata": {},
   "outputs": [],
   "source": [
    "data[\"full_text\"] = data[\"full_text\"].apply(lambda x: remove_punctuations(x))\n",
    "data[\"full_text_without_emoji\"] = data[\"full_text\"].apply(lambda x: remove_emojis(x))\n",
    "data[\"full_text_without_emoji\"] = data[\"full_text_without_emoji\"].apply(lambda x: remove_english_chars(x))\n",
    "data[\"full_text_without_emoji\"] = data[\"full_text_without_emoji\"].apply(lambda x: remove_new_lines(x))\n",
    "data[\"full_text_without_emoji\"] = data[\"full_text_without_emoji\"].apply(lambda x: remove_numbers(x))\n",
    "data[\"full_text_without_emoji\"] = data[\"full_text_without_emoji\"].apply(lambda x: x.strip())"
   ]
  },
  {
   "cell_type": "code",
   "execution_count": 17,
   "id": "dc1a8baf",
   "metadata": {},
   "outputs": [
    {
     "data": {
      "text/plain": [
       "0                                  අනේ හුකන්න කියපන් උන්ට\n",
       "1       IamHisAnchor පාහර බැල්ලි එනෝ මෙතන මට වැඩ කියාද...\n",
       "2       ඉස්සෝ කියන්නෙ කොච්චර උෂ්ණ වුනත් කොහොම හැදුවත් ...\n",
       "3              Lokuma bitch thamai Dhanya 😩😩 මහ බැල්ලි 🐶🐕\n",
       "4                                 IsuriUdeshika වේසි වේසි\n",
       "                              ...                        \n",
       "4503    Pahankolla මටත් මේ හුකන්න කෙනෙක් නැතිව උන්නෙ ව...\n",
       "4504      ගෙදර තට්ටු ගානයි වාහන ගානයි බලන සීසන් එක ලඟයි 🌚\n",
       "4505                        Dinisuruu හිකිලා ගිහිල්ලා 😂😂😂\n",
       "4506    කෙල්ලගෙ චිත්‍ර පංතියෙ පාඩම සිබිල් නැන්දාගේ චිත...\n",
       "4507    GeethR Harindupojja දෙයක් කියන්න ඕනෙ මිනිස්සු ...\n",
       "Name: full_text, Length: 4508, dtype: object"
      ]
     },
     "execution_count": 17,
     "metadata": {},
     "output_type": "execute_result"
    }
   ],
   "source": [
    "data.full_text"
   ]
  },
  {
   "cell_type": "code",
   "execution_count": 18,
   "id": "75db30ff",
   "metadata": {},
   "outputs": [
    {
     "data": {
      "text/plain": [
       "0                                  අනේ හුකන්න කියපන් උන්ට\n",
       "1       පාහර බැල්ලි එනෝ මෙතන මට වැඩ කියාදෙන්න හෙළුවෙන්...\n",
       "2       ඉස්සෝ කියන්නෙ කොච්චර උෂ්ණ වුනත් කොහොම හැදුවත් ...\n",
       "3                                               මහ බැල්ලි\n",
       "4                                               වේසි වේසි\n",
       "                              ...                        \n",
       "4503      මටත් මේ හුකන්න කෙනෙක් නැතිව උන්නෙ වරෙන් හුකාගමු\n",
       "4504        ගෙදර තට්ටු ගානයි වාහන ගානයි බලන සීසන් එක ලඟයි\n",
       "4505                                      හිකිලා ගිහිල්ලා\n",
       "4506    කෙල්ලගෙ චිත්‍ර පංතියෙ පාඩම සිබිල් නැන්දාගේ චිත...\n",
       "4507    දෙයක් කියන්න ඕනෙ මිනිස්සු අතර මතයක් තියෙනවා ස්...\n",
       "Name: full_text_without_emoji, Length: 4508, dtype: object"
      ]
     },
     "execution_count": 18,
     "metadata": {},
     "output_type": "execute_result"
    }
   ],
   "source": [
    "data.full_text_without_emoji"
   ]
  },
  {
   "cell_type": "code",
   "execution_count": 19,
   "id": "45b43b4e",
   "metadata": {},
   "outputs": [],
   "source": [
    "data.to_csv(\"../merged_dataset/final.csv\")"
   ]
  }
 ],
 "metadata": {
  "kernelspec": {
   "display_name": "Python 3",
   "language": "python",
   "name": "python3"
  },
  "language_info": {
   "codemirror_mode": {
    "name": "ipython",
    "version": 3
   },
   "file_extension": ".py",
   "mimetype": "text/x-python",
   "name": "python",
   "nbconvert_exporter": "python",
   "pygments_lexer": "ipython3",
   "version": "3.6.9"
  }
 },
 "nbformat": 4,
 "nbformat_minor": 5
}
